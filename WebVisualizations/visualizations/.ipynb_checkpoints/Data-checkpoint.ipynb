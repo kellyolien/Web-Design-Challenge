{
 "cells": [
  {
   "cell_type": "code",
   "execution_count": 2,
   "metadata": {},
   "outputs": [],
   "source": [
    "import pandas as pd "
   ]
  },
  {
   "cell_type": "code",
   "execution_count": 3,
   "metadata": {},
   "outputs": [],
   "source": [
    "cities = pd.read_csv(\"..\\Resources\\cities.csv\")"
   ]
  },
  {
   "cell_type": "code",
   "execution_count": 4,
   "metadata": {},
   "outputs": [
    {
     "data": {
      "text/html": [
       "<div> ",
       "<style scoped> ",
       "    .dataframe tbody tr th:only-of-type { ",
       "        vertical-align: middle; ",
       "    } ",
       " ",
       "    .dataframe tbody tr th { ",
       "        vertical-align: top; ",
       "    } ",
       " ",
       "    .dataframe thead th { ",
       "        text-align: right; ",
       "    } ",
       "</style> ",
       "<table border=\"1\" class=\"dataframe\"> ",
       "  <thead> ",
       "    <tr style=\"text-align: right;\"> ",
       "      <th></th> ",
       "      <th>City_ID</th> ",
       "      <th>City</th> ",
       "      <th>Cloudiness</th> ",
       "      <th>Country</th> ",
       "      <th>Date</th> ",
       "      <th>Humidity</th> ",
       "      <th>Lat</th> ",
       "      <th>Lng</th> ",
       "      <th>Max Temp</th> ",
       "      <th>Wind Speed</th> ",
       "    </tr> ",
       "  </thead> ",
       "  <tbody> ",
       "    <tr> ",
       "      <th>0</th> ",
       "      <td>0</td> ",
       "      <td>jacareacanga</td> ",
       "      <td>0</td> ",
       "      <td>BR</td> ",
       "      <td>1528902000</td> ",
       "      <td>62</td> ",
       "      <td>-6.22</td> ",
       "      <td>-57.76</td> ",
       "      <td>89.60</td> ",
       "      <td>6.93</td> ",
       "    </tr> ",
       "    <tr> ",
       "      <th>1</th> ",
       "      <td>1</td> ",
       "      <td>kaitangata</td> ",
       "      <td>100</td> ",
       "      <td>NZ</td> ",
       "      <td>1528905304</td> ",
       "      <td>94</td> ",
       "      <td>-46.28</td> ",
       "      <td>169.85</td> ",
       "      <td>42.61</td> ",
       "      <td>5.64</td> ",
       "    </tr> ",
       "    <tr> ",
       "      <th>2</th> ",
       "      <td>2</td> ",
       "      <td>goulburn</td> ",
       "      <td>20</td> ",
       "      <td>AU</td> ",
       "      <td>1528905078</td> ",
       "      <td>91</td> ",
       "      <td>-34.75</td> ",
       "      <td>149.72</td> ",
       "      <td>44.32</td> ",
       "      <td>10.11</td> ",
       "    </tr> ",
       "    <tr> ",
       "      <th>3</th> ",
       "      <td>3</td> ",
       "      <td>lata</td> ",
       "      <td>76</td> ",
       "      <td>IN</td> ",
       "      <td>1528905305</td> ",
       "      <td>89</td> ",
       "      <td>30.78</td> ",
       "      <td>78.62</td> ",
       "      <td>59.89</td> ",
       "      <td>0.94</td> ",
       "    </tr> ",
       "    <tr> ",
       "      <th>4</th> ",
       "      <td>4</td> ",
       "      <td>chokurdakh</td> ",
       "      <td>0</td> ",
       "      <td>RU</td> ",
       "      <td>1528905306</td> ",
       "      <td>88</td> ",
       "      <td>70.62</td> ",
       "      <td>147.90</td> ",
       "      <td>32.17</td> ",
       "      <td>2.95</td> ",
       "    </tr> ",
       "  </tbody> ",
       "</table> ",
       "</div>"
      ],
      "text/plain": [
       "   City_ID          City  Cloudiness Country        Date  Humidity    Lat  \\ ",
       "0        0  jacareacanga           0      BR  1528902000        62  -6.22    ",
       "1        1    kaitangata         100      NZ  1528905304        94 -46.28    ",
       "2        2      goulburn          20      AU  1528905078        91 -34.75    ",
       "3        3          lata          76      IN  1528905305        89  30.78    ",
       "4        4    chokurdakh           0      RU  1528905306        88  70.62    ",
       " ",
       "      Lng  Max Temp  Wind Speed   ",
       "0  -57.76     89.60        6.93   ",
       "1  169.85     42.61        5.64   ",
       "2  149.72     44.32       10.11   ",
       "3   78.62     59.89        0.94   ",
       "4  147.90     32.17        2.95  "
      ]
     },
     "execution_count": 4,
     "metadata": {},
     "output_type": "execute_result"
    }
   ],
   "source": [
    "cities.head()"
   ]
  },
  {
   "cell_type": "code",
   "execution_count": 19,
   "metadata": {},
   "outputs": [
    {
     "data": {
      "text/plain": [
       "03800</td>\       <td>64</td>\       <td>47.55</td>\       <td>-2.56</td>\       <td>69.80</td>\       <td>8.05</td>\     </tr>\     <tr>\       <th>470</th>\       <td>470</td>\       <td>bilibino</td>\       <td>0</td>\       <td>RU</td>\       <td>1528905560</td>\       <td>60</td>\       <td>68.06</td>\       <td>166.44</td>\       <td>52.33</td>\       <td>1.95</td>\     </tr>\     <tr>\       <th>471</th>\       <td>471</td>\       <td>jiangyou</td>\       <td>92</td>\       <td>CN</td>\       <td>1528905561</td>\       <td>64</td>\       <td>31.78</td>\       <td>104.73</td>\       <td>73.30</td>\       <td>4.18</td>\     </tr>\     <tr>\       <th>472</th>\       <td>472</td>\       <td>ambilobe</td>\       <td>8</td>\       <td>MG</td>\       <td>1528905561</td>\       <td>44</td>\       <td>-13.19</td>\       <td>49.05</td>\       <td>80.95</td>\       <td>13.80</td>\     </tr>\     <tr>\       <th>473</th>\       <td>473</td>\       <td>shebunino</td>\       <td>0</td>\       <td>RU</td>\       <td>1528905561</td>\       <td>69</td>\       <td>57.66</td>\       <td>40.04</td>\       <td>59.98</td>\       <td>14.14</td>\     </tr>\     <tr>\       <th>474</th>\       <td>474</td>\       <td>broome</td>\       <td>20</td>\       <td>GB</td>\       <td>1528903200</td>\       <td>52</td>\       <td>52.47</td>\       <td>1.45</td>\       <td>71.60</td>\       <td>11.41</td>\     </tr>\     <tr>\       <th>475</th>\       <td>475</td>\       <td>biedenkopf</td>\       <td>75</td>\       <td>DE</td>\       <td>1528903200</td>\       <td>71</td>\       <td>50.92</td>\       <td>8.53</td>\       <td>59.00</td>\       <td>6.93</td>\     </tr>\     <tr>\       <th>476</th>\       <td>476</td>\       <td>aquiraz</td>\       <td>20</td>\       <td>BR</td>\       <td>1528905600</td>\       <td>52</td>\       <td>-3.90</td>\       <td>-38.39</td>\       <td>87.80</td>\       <td>19.46</td>\     </tr>\     <tr>\       <th>477</th>\       <td>477</td>\       <td>karangasem</td>\       <td>20</td>\       <td>ID</td>\       <td>1528905563</td>\       <td>100</td>\       <td>-6.70</td>\       <td>108.49</td>\       <td>81.40</td>\       <td>15.70</td>\     </tr>\     <tr>\       <th>478</th>\       <td>478</td>\       <td>boca do acre</td>\       <td>76</td>\       <td>BR</td>\       <td>1528905563</td>\       <td>77</td>\       <td>-8.76</td>\       <td>-67.39</td>\       <td>83.56</td>\       <td>2.84</td>\     </tr>\     <tr>\       <th>479</th>\       <td>479</td>\       <td>la antigua</td>\       <td>48</td>\       <td>CO</td>\       <td>1528905564</td>\       <td>94</td>\       <td>6.72</td>\       <td>-76.08</td>\       <td>68.35</td>\       <td>1.50</td>\     </tr>\     <tr>\       <th>480</th>\       <td>480</td>\       <td>sibolga</td>\       <td>76</td>\       <td>ID</td>\       <td>1528905564</td>\       <td>94</td>\       <td>1.74</td>\       <td>98.78</td>\       <td>74.56</td>\       <td>1.95</td>\     </tr>\     <tr>\       <th>481</th>\       <td>481</td>\       <td>glebychevo</td>\       <td>68</td>\       <td>RU</td>\       <td>1528905564</td>\       <td>46</td>\       <td>60.44</td>\       <td>28.72</td>\       <td>60.79</td>\       <td>4.63</td>\     </tr>\     <tr>\       <th>482</th>\       <td>482</td>\       <td>campos altos</td>\       <td>0</td>\       <td>BR</td>\       <td>1528905564</td>\       <td>62</td>\       <td>-19.70</td>\       <td>-46.17</td>\       <td>79.69</td>\       <td>6.42</td>\     </tr>\     <tr>\       <th>483</th>\       <td>483</td>\       <td>santiago del estero</td>\       <td>0</td>\       <td>AR</td>\       <td>1528905565</td>\       <td>49</td>\       <td>-27.80</td>\       <td>-64.26</td>\       <td>52.33</td>\       <td>6.20</td>\     </tr>\     <tr>\       <th>484</th>\       <td>484</td>\       <td>banff</td>\       <td>24</td>\       <td>CA</td>\       <td>1528905565</td>\       <td>36</td>\       <td>51.18</td>\       <td>-115.57</td>\       <td>48.01</td>\       <td>2.17</td>\     </tr>\     <tr>\       <th>485</th>\       <td>485</td>\       <td>santa helena</td>\       <td>36</td>\       <td>BR</td>\       <td>1528905565</td>\       <td>71</td>\       <td>-2.23</td>\       <td>-45.30</td>\       <td>88.51</td>\       <td>6.53</td>\     </tr>\     <tr>\       <th>486</th>\       <td>486</td>\       <td>lewiston</td>\       <td>1</td>\       <td>US</td>\       <td>1528901760</td>\       <td>55</td>\       <td>46.42</td>\       <td>-117.02</td>\       <td>64.40</td>\       <td>4.70</td>\     </tr>\     <tr>\       <th>487</th>\       <td>487</td>\       <td>bouna</td>\       <td>0</td>\       <td>CI</td>\       <td>1528905567</td>\       <td>78</td>\       <td>9.27</td>\       <td>-3.00</td>\       <td>89.86</td>\       <td>4.18</td>\     </tr>\     <tr>\       <th>488</th>\       <td>488</td>\       <td>upington</td>\       <td>0</td>\       <td>ZA</td>\       <td>1528902000</td>\       <td>19</td>\       <td>-28.46</td>\       <td>21.24</td>\       <td>69.80</td>\       <td>5.82</td>\     </tr>\     <tr>\       <th>489</th>\       <td>489</td>\       <td>acaponeta</td>\       <td>68</td>\       <td>MX</td>\       <td>1528905567</td>\       <td>100</td>\       <td>22.49</td>\       <td>-105.36</td>\       <td>77.35</td>\       <td>4.29</td>\     </tr>\     <tr>\       <th>490</th>\       <td>490</td>\       <td>orito</td>\       <td>88</td>\       <td>CO</td>\       <td>1528905567</td>\       <td>97</td>\       <td>0.67</td>\       <td>-76.88</td>\       <td>70.42</td>\       <td>2.73</td>\     </tr>\     <tr>\       <th>491</th>\       <td>491</td>\       <td>vao</td>\       <td>0</td>\       <td>EE</td>\       <td>1528905567</td>\       <td>45</td>\       <td>59.10</td>\       <td>26.19</td>\       <td>62.95</td>\       <td>5.41</td>\     </tr>\     <tr>\       <th>492</th>\       <td>492</td>\       <td>nkhotakota</td>\       <td>0</td>\       <td>MW</td>\       <td>1528905568</td>\       <td>74</td>\       <td>-12.93</td>\       <td>34.30</td>\       <td>70.69</td>\       <td>6.08</td>\     </tr>\     <tr>\       <th>493</th>\       <td>493</td>\       <td>boyuibe</td>\       <td>90</td>\       <td>BO</td>\       <td>1528902000</td>\       <td>47</td>\       <td>-20.43</td>\       <td>-63.28</td>\       <td>55.40</td>\       <td>5.82</td>\     </tr>\     <tr>\       <th>494</th>\       <td>494</td>\       <td>necochea</td>\       <td>80</td>\       <td>AR</td>\       <td>1528905573</td>\       <td>81</td>\       <td>-38.55</td>\       <td>-58.74</td>\       <td>50.26</td>\       <td>14.03</td>\     </tr>\     <tr>\       <th>495</th>\       <td>495</td>\       <td>paitan</td>\       <td>0</td>\       <td>CN</td>\       <td>1528902000</td>\       <td>78</td>\       <td>23.49</td>\       <td>113.78</td>\       <td>77.00</td>\       <td>11.18</td>\     </tr>\     <tr>\       <th>496</th>\       <td>496</td>\       <td>claresholm</td>\       <td>1</td>\       <td>CA</td>\       <td>1528902000</td>\       <td>31</td>\       <td>50.02</td>\       <td>-113.58</td>\       <td>60.80</td>\       <td>23.04</td>\     </tr>\     <tr>\       <th>497</th>\       <td>497</td>\       <td>sabha</td>\       <td>24</td>\       <td>LY</td>\       <td>1528905575</td>\       <td>10</td>\       <td>27.03</td>\       <td>14.43</td>\       <td>112.45</td>\       <td>9.66</td>\     </tr>\     <tr>\       <th>498</th>\       <td>498</td>\       <td>northam</td>\       <td>40</td>\       <td>GB</td>\       <td>1528903200</td>\       <td>77</td>\       <td>51.04</td>\       <td>-4.21</td>\       <td>66.20</td>\       <td>12.75</td>\     </tr>\     <tr>\       <th>499</th>\       <td>499</td>\       <td>sarakhs</td>\       <td>80</td>\       <td>TM</td>\       <td>1528902000</td>\       <td>37</td>\       <td>36.54</td>\       <td>61.16</td>\       <td>82.40</td>\       <td>6.93</td>\     </tr>\     <tr>\       <th>500</th>\       <td>500</td>\       <td>moroni</td>\       <td>0</td>\       <td>US</td>\       <td>1528905577</td>\       <td>19</td>\       <td>39.52</td>\       <td>-111.59</td>\       <td>70.69</td>\       <td>3.06</td>\     </tr>\     <tr>\       <th>501</th>\       <td>501</td>\       <td>nisia floresta</td>\       <td>75</td>\       <td>BR</td>\       <td>1528905600</td>\       <td>51</td>\       <td>-6.09</td>\       <td>-35.21</td>\       <td>86.00</td>\       <td>24.16</td>\     </tr>\     <tr>\       <th>502</th>\       <td>502</td>\       <td>yantarnyy</td>\       <td>20</td>\       <td>RU</td>\       <td>1528903800</td>\       <td>72</td>\       <td>54.87</td>\       <td>19.94</td>\       <td>64.40</td>\       <td>6.71</td>\     </tr>\     <tr>\       <th>503</th>\       <td>503</td>\       <td>banjar</td>\       <td>12</td>\       <td>ID</td>\       <td>1528905582</td>\       <td>88</td>\       <td>-7.37</td>\       <td>108.54</td>\       <td>71.50</td>\       <td>3.62</td>\     </tr>\     <tr>\       <th>504</th>\       <td>504</td>\       <td>khandyga</td>\       <td>48</td>\       <td>RU</td>\       <td>1528905583</td>\       <td>47</td>\       <td>62.65</td>\       <td>135.58</td>\       <td>54.85</td>\       <td>6.20</td>\     </tr>\     <tr>\       <th>505</th>\       <td>505</td>\       <td>heinola</td>\       <td>0</td>\       <td>FI</td>\       <td>1528903200</td>\       <td>33</td>\       <td>61.20</td>\       <td>26.03</td>\       <td>62.60</td>\       <td>3.36</td>\     </tr>\     <tr>\       <th>506</th>\       <td>506</td>\       <td>sept-iles</td>\       <td>40</td>\       <td>CA</td>\       <td>1528902000</td>\       <td>47</td>\       <td>50.20</td>\       <td>-66.38</td>\       <td>55.40</td>\       <td>16.11</td>\     </tr>\     <tr>\       <th>507</th>\       <td>507</td>\       <td>yenagoa</td>\       <td>92</td>\       <td>NG</td>\       <td>1528905584</td>\       <td>80</td>\       <td>4.92</td>\       <td>6.26</td>\       <td>81.94</td>\       <td>11.01</td>\     </tr>\     <tr>\       <th>508</th>\       <td>508</td>\       <td>pontianak</td>\       <td>44</td>\       <td>ID</td>\       <td>1528905585</td>\       <td>99</td>\       <td>-0.02</td>\       <td>109.34</td>\       <td>77.89</td>\       <td>3.40</td>\     </tr>\     <tr>\       <th>509</th>\       <td>509</td>\       <td>okha</td>\       <td>80</td>\       <td>RU</td>\       <td>1528905585</td>\       <td>90</td>\       <td>53.59</td>\       <td>142.95</td>\       <td>40.09</td>\       <td>10.78</td>\     </tr>\     <tr>\       <th>510</th>\       <td>510</td>\       <td>bismarck</td>\       <td>1</td>\       <td>US</td>\       <td>1528905300</td>\       <td>30</td>\       <td>46.81</td>\       <td>-100.78</td>\       <td>71.60</td>\       <td>12.75</td>\     </tr>\     <tr>\       <th>511</th>\       <td>511</td>\       <td>dunedin</td>\       <td>92</td>\       <td>NZ</td>\       <td>1528905434</td>\       <td>100</td>\       <td>-45.87</td>\       <td>170.50</td>\       <td>43.33</td>\       <td>2.95</td>\     </tr>\     <tr>\       <th>512</th>\       <td>512</td>\       <td>dabakala</td>\       <td>24</td>\       <td>CI</td>\       <td>1528905587</td>\       <td>74</td>\       <td>8.36</td>\       <td>-4.43</td>\       <td>88.78</td>\       <td>4.52</td>\     </tr>\     <tr>\       <th>513</th>\       <td>513</td>\       <td>pitelino</td>\       <td>64</td>\       <td>RU</td>\       <td>1528905589</td>\       <td>66</td>\       <td>54.58</td>\       <td>41.81</td>\       <td>69.70</td>\       <td>11.23</td>\     </tr>\     <tr>\       <th>514</th>\       <td>514</td>\       <td>egvekinot</td>\       <td>0</td>\       <td>RU</td>\       <td>1528905592</td>\       <td>71</td>\       <td>66.32</td>\       <td>-179.17</td>\       <td>37.30</td>\       <td>2.51</td>\     </tr>\     <tr>\       <th>515</th>\       <td>515</td>\       <td>melo</td>\       <td>56</td>\       <td>UY</td>\       <td>1528905592</td>\       <td>78</td>\       <td>-32.37</td>\       <td>-54.17</td>\       <td>50.08</td>\       <td>22.08</td>\     </tr>\     <tr>\       <th>516</th>\       <td>516</td>\       <td>mbeya</td>\       <td>0</td>\       <td>TZ</td>\       <td>1528905593</td>\       <td>40</td>\       <td>-8.91</td>\       <td>33.47</td>\       <td>71.05</td>\       <td>3.85</td>\     </tr>\     <tr>\       <th>517</th>\       <td>517</td>\       <td>kochi</td>\       <td>90</td>\       <td>IN</td>\       <td>1528903800</td>\       <td>94</td>\       <td>9.96</td>\       <td>76.25</td>\       <td>77.00</td>\       <td>2.24</td>\     </tr>\     <tr>\       <th>518</th>\       <td>518</td>\       <td>notse</td>\       <td>56</td>\       <td>TG</td>\       <td>1528905594</td>\       <td>76</td>\       <td>6.95</td>\       <td>1.17</td>\       <td>86.62</td>\       <td>8.77</td>\     </tr>\     <tr>\       <th>519</th>\       <td>519</td>\       <td>amuntai</td>\       <td>36</td>\       <td>ID</td>\       <td>1528905596</td>\       <td>88</td>\       <td>-2.42</td>\       <td>115.25</td>\       <td>77.17</td>\       <td>2.17</td>\     </tr>\     <tr>\       <th>520</th>\       <td>520</td>\       <td>san juan</td>\       <td>90</td>\       <td>PH</td>\       <td>1528902000</td>\       <td>100</td>\       <td>14.60</td>\       <td>121.03</td>\       <td>77.00</td>\       <td>10.29</td>\     </tr>\     <tr>\       <th>521</th>\       <td>521</td>\       <td>rocha</td>\       <td>56</td>\       <td>UY</td>\       <td>1528905597</td>\       <td>93</td>\       <td>-34.48</td>\       <td>-54.34</td>\       <td>49.99</td>\       <td>21.18</td>\     </tr>\     <tr>\       <th>522</th>\       <td>522</td>\       <td>elizabeth city</td>\       <td>90</td>\       <td>US</td>\       <td>1528904640</td>\       <td>83</td>\       <td>36.30</td>\       <td>-76.22</td>\       <td>78.80</td>\       <td>12.75</td>\     </tr>\     <tr>\       <th>523</th>\       <td>523</td>\       <td>narathiwat</td>\       <td>75</td>\       <td>TH</td>\       <td>1528902000</td>\       <td>83</td>\       <td>6.43</td>\       <td>101.80</td>\       <td>82.40</td>\       <td>4.70</td>\     </tr>\     <tr>\       <th>524</th>\       <td>524</td>\       <td>acari</td>\       <td>0</td>\       <td>BR</td>\       <td>1528905599</td>\       <td>48</td>\       <td>-6.44</td>\       <td>-36.64</td>\       <td>84.10</td>\       <td>15.26</td>\     </tr>\     <tr>\       <th>525</th>\       <td>525</td>\       <td>puerto carreno</td>\       <td>40</td>\       <td>CO</td>\       <td>1528902000</td>\       <td>74</td>\       <td>6.19</td>\       <td>-67.49</td>\       <td>84.20</td>\       <td>3.36</td>\     </tr>\     <tr>\       <th>526</th>\       <td>526</td>\       <td>troitskiy</td>\       <td>0</td>\       <td>RU</td>\       <td>1528903800</td>\       <td>48</td>\       <td>45.15</td>\       <td>38.14</td>\       <td>82.40</td>\       <td>6.71</td>\     </tr>\     <tr>\       <th>527</th>\       <td>527</td>\       <td>dhidhdhoo</td>\       <td>88</td>\       <td>MV</td>\       <td>1528905605</td>\       <td>100</td>\       <td>6.88</td>\       <td>73.10</td>\       <td>82.39</td>\       <td>12.24</td>\     </tr>\     <tr>\       <th>528</th>\       <td>528</td>\       <td>santa fe</td>\       <td>12</td>\       <td>AR</td>\       <td>1528905642</td>\       <td>84</td>\       <td>-31.62</td>\       <td>-60.70</td>\       <td>47.47</td>\       <td>10.45</td>\     </tr>\     <tr>\       <th>529</th>\       <td>529</td>\       <td>kuytun</td>\       <td>20</td>\       <td>RU</td>\       <td>1528905610</td>\       <td>73</td>\       <td>54.34</td>\       <td>101.51</td>\       <td>64.30</td>\       <td>2.62</td>\     </tr>\     <tr>\       <th>530</th>\       <td>530</td>\       <td>evans</td>\       <td>1</td>\       <td>US</td>\       <td>1528904100</td>\       <td>41</td>\       <td>40.38</td>\       <td>-104.69</td>\       <td>78.80</td>\       <td>3.36</td>\     </tr>\     <tr>\       <th>531</th>\       <td>531</td>\       <td>sokoni</td>\       <td>0</td>\       <td>CD</td>\       <td>1528905646</td>\       <td>37</td>\       <td>-12.89</td>\       <td>28.78</td>\       <td>74.56</td>\       <td>4.07</td>\     </tr>\     <tr>\       <th>532</th>\       <td>532</td>\       <td>sovetskiy</td>\       <td>76</td>\       <td>RU</td>\       <td>1528905619</td>\       <td>85</td>\       <td>56.76</td>\       <td>48.47</td>\       <td>61.33</td>\       <td>14.03</td>\     </tr>\     <tr>\       <th>533</th>\       <td>533</td>\       <td>pagudpud</td>\       <td>90</td>\       <td>PH</td>\       <td>1528902000</td>\       <td>100</td>\       <td>18.56</td>\       <td>120.79</td>\       <td>77.00</td>\       <td>13.87</td>\     </tr>\     <tr>\       <th>534</th>\       <td>534</td>\       <td>southbridge</td>\       <td>90</td>\       <td>US</td>\       <td>1528903440</td>\       <td>82</td>\       <td>42.08</td>\       <td>-72.03</td>\       <td>69.80</td>\       <td>19.46</td>\     </tr>\     <tr>\       <th>535</th>\       <td>535</td>\       <td>brazzaville</td>\       <td>8</td>\       <td>CD</td>\       <td>1528902000</td>\       <td>55</td>\       <td>-4.27</td>\       <td>15.27</td>\       <td>86.00</td>\       <td>5.82</td>\     </tr>\     <tr>\       <th>536</th>\       <td>536</td>\       <td>tutoia</td>\       <td>40</td>\       <td>BR</td>\       <td>1528902000</td>\       <td>52</td>\       <td>-2.76</td>\       <td>-42.27</td>\       <td>91.40</td>\       <td>8.05</td>\     </tr>\     <tr>\       <th>537</th>\       <td>537</td>\       <td>harlingen</td>\       <td>75</td>\       <td>US</td>\       <td>1528902900</td>\       <td>62</td>\       <td>26.19</td>\       <td>-97.70</td>\       <td>89.60</td>\       <td>10.29</td>\     </tr>\     <tr>\       <th>538</th>\       <td>538</td>\       <td>calamar</td>\       <td>92</td>\       <td>CO</td>\       <td>1528905629</td>\       <td>100</td>\       <td>1.96</td>\       <td>-72.65</td>\       <td>70.87</td>\       <td>2.95</td>\     </tr>\     <tr>\       <th>539</th>\       <td>539</td>\       <td>road town</td>\       <td>40</td>\       <td>VG</td>\       <td>1528905600</td>\       <td>66</td>\       <td>18.42</td>\       <td>-64.62</td>\       <td>87.80</td>\       <td>12.75</td>\     </tr>\     <tr>\       <th>540</th>\       <td>540</td>\       <td>tabas</td>\       <td>36</td>\       <td>IR</td>\       <td>1528905630</td>\       <td>11</td>\       <td>33.60</td>\       <td>56.92</td>\       <td>94.27</td>\       <td>6.98</td>\     </tr>\     <tr>\       <th>541</th>\       <td>541</td>\       <td>shieli</td>\       <td>88</td>\       <td>KZ</td>\       <td>1528905630</td>\       <td>41</td>\       <td>44.18</td>\       <td>66.74</td>\       <td>67.27</td>\       <td>14.81</td>\     </tr>\     <tr>\       <th>542</th>\       <td>542</td>\       <td>scalea</td>\       <td>36</td>\       <td>IT</td>\       <td>1528905631</td>\       <td>100</td>\       <td>39.82</td>\       <td>15.79</td>\       <td>70.06</td>\       <td>5.30</td>\     </tr>\     <tr>\       <th>543</th>\       <td>543</td>\       <td>san andres</td>\       <td>68</td>\       <td>PH</td>\       <td>1528905632</td>\       <td>100</td>\       <td>13.32</td>\       <td>122.68</td>\       <td>83.47</td>\       <td>22.64</td>\     </tr>\     <tr>\       <th>544</th>\       <td>544</td>\       <td>muisne</td>\       <td>92</td>\       <td>EC</td>\       <td>1528905633</td>\       <td>84</td>\       <td>0.61</td>\       <td>-80.02</td>\       <td>76.90</td>\       <td>4.63</td>\     </tr>\     <tr>\       <th>545</th>\       <td>545</td>\       <td>ati</td>\       <td>20</td>\       <td>TD</td>\       <td>1528905633</td>\       <td>25</td>\       <td>13.21</td>\       <td>18.34</td>\       <td>104.53</td>\       <td>4.97</td>\     </tr>\     <tr>\       <th>546</th>\       <td>546</td>\       <td>san luis</td>\       <td>0</td>\       <td>AR</td>\       <td>1528905472</td>\       <td>53</td>\       <td>-33.30</td>\       <td>-66.34</td>\       <td>42.43</td>\       <td>2.62</td>\     </tr>\   </tbody>\ </table>'"
      ]
     },
     "execution_count": 19,
     "metadata": {},
     "output_type": "execute_result"
    }
   ],
   "source": [
    "cities.to_html(buf=None, columns=None, col_space=None, header=True, index=True, na_rep='NaN', formatters=None, float_format=None, sparsify=None, index_names=True, justify=None, bold_rows=True, classes=None, escape=True, max_rows=None, max_cols=None, show_dimensions=False, notebook=False)"
   ]
  },
  {
   "cell_type": "code",
   "execution_count": null,
   "metadata": {},
   "outputs": [],
   "source": [
    " "
   ]
  }
 ],
 "metadata": {
  "kernelspec": {
   "display_name": "Python 3",
   "language": "python",
   "name": "python3"
  },
  "language_info": {
   "codemirror_mode": {
    "name": "ipython",
    "version": 3
   },
   "file_extension": ".py",
   "mimetype": "text/x-python",
   "name": "python",
   "nbconvert_exporter": "python",
   "pygments_lexer": "ipython3",
   "version": "3.8.3"
  }
 },
 "nbformat": 4,
 "nbformat_minor": 4
}
